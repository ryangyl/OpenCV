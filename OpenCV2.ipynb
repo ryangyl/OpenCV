{
 "cells": [
  {
   "cell_type": "code",
   "execution_count": 4,
   "metadata": {},
   "outputs": [
    {
     "name": "stderr",
     "output_type": "stream",
     "text": [
      "C:\\Users\\rg413939\\AppData\\Roaming\\Python\\Python310\\site-packages\\urllib3\\connectionpool.py:1064: InsecureRequestWarning: Unverified HTTPS request is being made to host 'docs.opencv.org'. Adding certificate verification is strongly advised. See: https://urllib3.readthedocs.io/en/1.26.x/advanced-usage.html#ssl-warnings\n",
      "  warnings.warn(\n"
     ]
    },
    {
     "data": {
      "text/plain": [
       "array([[[  0,   0,   0],\n",
       "        [  0,   0,   0],\n",
       "        [  0,   0,   0],\n",
       "        ...,\n",
       "        [  0,   0,   0],\n",
       "        [  0,   0,   0],\n",
       "        [  0,   0,   0]],\n",
       "\n",
       "       [[  0,   0,   0],\n",
       "        [  0,   0,   0],\n",
       "        [  0,   0,   0],\n",
       "        ...,\n",
       "        [  0,   0,   0],\n",
       "        [  0,   0,   0],\n",
       "        [  0,   0,   0]],\n",
       "\n",
       "       [[  0,   0,   0],\n",
       "        [  0,   0,   0],\n",
       "        [  0,   0,   0],\n",
       "        ...,\n",
       "        [  0,   0,   0],\n",
       "        [  0,   0,   0],\n",
       "        [  0,   0,   0]],\n",
       "\n",
       "       ...,\n",
       "\n",
       "       [[  0,   0,   0],\n",
       "        [  0,   0,   0],\n",
       "        [101, 218, 142],\n",
       "        ...,\n",
       "        [  0,   0,   0],\n",
       "        [  0,   0,   0],\n",
       "        [  0,   0,   0]],\n",
       "\n",
       "       [[  0,   0,   0],\n",
       "        [  0,   0,   0],\n",
       "        [  0,   0,   0],\n",
       "        ...,\n",
       "        [  0,   0,   0],\n",
       "        [  0,   0,   0],\n",
       "        [  0,   0,   0]],\n",
       "\n",
       "       [[  0,   0,   0],\n",
       "        [  0,   0,   0],\n",
       "        [  0,   0,   0],\n",
       "        ...,\n",
       "        [  0,   0,   0],\n",
       "        [  0,   0,   0],\n",
       "        [  0,   0,   0]]], dtype=uint8)"
      ]
     },
     "metadata": {},
     "output_type": "display_data"
    },
    {
     "name": "stderr",
     "output_type": "stream",
     "text": [
      "C:\\Users\\rg413939\\AppData\\Roaming\\Python\\Python310\\site-packages\\urllib3\\connectionpool.py:1064: InsecureRequestWarning: Unverified HTTPS request is being made to host 'docs.opencv.org'. Adding certificate verification is strongly advised. See: https://urllib3.readthedocs.io/en/1.26.x/advanced-usage.html#ssl-warnings\n",
      "  warnings.warn(\n"
     ]
    },
    {
     "data": {
      "text/plain": [
       "array([[[255, 255, 255],\n",
       "        [255, 255, 255],\n",
       "        [255, 255, 255],\n",
       "        ...,\n",
       "        [178, 178, 178],\n",
       "        [178, 178, 178],\n",
       "        [178, 178, 178]],\n",
       "\n",
       "       [[255, 255, 255],\n",
       "        [255, 255, 255],\n",
       "        [255, 255, 255],\n",
       "        ...,\n",
       "        [178, 178, 178],\n",
       "        [178, 178, 178],\n",
       "        [178, 178, 178]],\n",
       "\n",
       "       [[255, 255, 255],\n",
       "        [255, 255, 255],\n",
       "        [255, 255, 255],\n",
       "        ...,\n",
       "        [178, 178, 178],\n",
       "        [178, 178, 178],\n",
       "        [178, 178, 178]],\n",
       "\n",
       "       ...,\n",
       "\n",
       "       [[255, 255, 255],\n",
       "        [255, 255, 255],\n",
       "        [255, 255, 255],\n",
       "        ...,\n",
       "        [177, 177, 177],\n",
       "        [178, 178, 178],\n",
       "        [178, 178, 178]],\n",
       "\n",
       "       [[255, 255, 255],\n",
       "        [255, 255, 255],\n",
       "        [255, 255, 255],\n",
       "        ...,\n",
       "        [185, 185, 185],\n",
       "        [178, 178, 178],\n",
       "        [178, 178, 178]],\n",
       "\n",
       "       [[255, 255, 255],\n",
       "        [255, 255, 255],\n",
       "        [255, 255, 255],\n",
       "        ...,\n",
       "        [178, 178, 178],\n",
       "        [178, 178, 178],\n",
       "        [178, 178, 178]]], dtype=uint8)"
      ]
     },
     "metadata": {},
     "output_type": "display_data"
    }
   ],
   "source": [
    "import cv2 as cv2\n",
    "import numpy as np\n",
    "import requests\n",
    "from io import BytesIO\n",
    "from IPython.display import display\n",
    "# URL of the image\n",
    "url1 = 'https://docs.opencv.org/4.x/opencv-logo-small.png'\n",
    "url2 = 'https://docs.opencv.org/4.x/blending.jpg'\n",
    "\n",
    "# Fetch the image using requests\n",
    "response = requests.get(url1, verify = False)\n",
    "image_data = BytesIO(response.content)\n",
    "\n",
    "# Convert the image data to a numpy array\n",
    "image_array = np.asarray(bytearray(image_data.read()), dtype=np.uint8)\n",
    "\n",
    "# Decode the numpy array into an image using OpenCV\n",
    "img1 = cv2.imdecode(image_array, cv2.IMREAD_COLOR)\n",
    "display(img1)\n",
    "\n",
    "response = requests.get(url2, verify = False)\n",
    "image_data = BytesIO(response.content)\n",
    "\n",
    "# Convert the image data to a numpy array\n",
    "image_array = np.asarray(bytearray(image_data.read()), dtype=np.uint8)\n",
    "\n",
    "# Decode the numpy array into an image using OpenCV\n",
    "img2 = cv2.imdecode(image_array, cv2.IMREAD_COLOR)\n",
    "display(img2)"
   ]
  },
  {
   "cell_type": "code",
   "execution_count": 5,
   "metadata": {},
   "outputs": [
    {
     "name": "stdout",
     "output_type": "stream",
     "text": [
      "(50, 54, 3)\n",
      "(185, 450, 3)\n"
     ]
    }
   ],
   "source": [
    "print(img1.shape)\n",
    "print(img2.shape)"
   ]
  },
  {
   "cell_type": "code",
   "execution_count": 6,
   "metadata": {},
   "outputs": [],
   "source": [
    "#Resize by size\n",
    "img1 = cv2.resize(img1, (100, 50)) \n",
    "img2 = cv2.resize(img2, (100, 50)) \n",
    "#Resize by percentage\n",
    "#img2 = cv2.resize(img2, (0,0), fx=0.5, fy=0.5) "
   ]
  },
  {
   "cell_type": "code",
   "execution_count": 7,
   "metadata": {},
   "outputs": [],
   "source": [
    "dst = cv.addWeighted(img1,0.7,img2,0.3,0)\n",
    "cv.imshow('dst',dst)\n",
    "cv.waitKey(0)\n",
    "cv.destroyAllWindows()"
   ]
  },
  {
   "cell_type": "code",
   "execution_count": 9,
   "metadata": {},
   "outputs": [
    {
     "data": {
      "text/plain": [
       "array([[[76, 76, 76],\n",
       "        [76, 76, 76],\n",
       "        [76, 76, 76],\n",
       "        ...,\n",
       "        [53, 53, 53],\n",
       "        [53, 53, 53],\n",
       "        [53, 53, 53]],\n",
       "\n",
       "       [[76, 76, 76],\n",
       "        [76, 76, 76],\n",
       "        [76, 76, 76],\n",
       "        ...,\n",
       "        [53, 53, 53],\n",
       "        [53, 53, 53],\n",
       "        [53, 53, 53]],\n",
       "\n",
       "       [[76, 76, 76],\n",
       "        [76, 76, 76],\n",
       "        [75, 75, 75],\n",
       "        ...,\n",
       "        [53, 53, 53],\n",
       "        [53, 53, 53],\n",
       "        [53, 53, 53]],\n",
       "\n",
       "       ...,\n",
       "\n",
       "       [[76, 76, 76],\n",
       "        [76, 76, 76],\n",
       "        [76, 76, 76],\n",
       "        ...,\n",
       "        [74, 74, 74],\n",
       "        [53, 53, 53],\n",
       "        [53, 53, 53]],\n",
       "\n",
       "       [[76, 76, 76],\n",
       "        [76, 76, 76],\n",
       "        [76, 76, 76],\n",
       "        ...,\n",
       "        [53, 53, 53],\n",
       "        [54, 54, 54],\n",
       "        [53, 53, 53]],\n",
       "\n",
       "       [[76, 76, 76],\n",
       "        [76, 76, 76],\n",
       "        [76, 76, 76],\n",
       "        ...,\n",
       "        [54, 54, 54],\n",
       "        [54, 54, 54],\n",
       "        [54, 54, 54]]], dtype=uint8)"
      ]
     },
     "metadata": {},
     "output_type": "display_data"
    }
   ],
   "source": [
    "display(dst)"
   ]
  },
  {
   "cell_type": "code",
   "execution_count": 11,
   "metadata": {},
   "outputs": [
    {
     "data": {
      "image/png": "[encoded data removed]",
      "text/plain": [
       "<Figure size 640x480 with 1 Axes>"
      ]
     },
     "metadata": {},
     "output_type": "display_data"
    }
   ],
   "source": [
    "import matplotlib.pyplot as plt\n",
    "plt.imshow(cv2.cvtColor(dst, cv2.COLOR_BGR2RGB))  # Convert BGR to RGB for display\n",
    "plt.axis('off')\n",
    "plt.show()"
   ]
  },
  {
   "cell_type": "code",
   "execution_count": 12,
   "metadata": {},
   "outputs": [],
   "source": [
    "rows,cols,channels = img2.shape\n",
    "roi = img1[0:rows, 0:cols]\n",
    " \n",
    "# Now create a mask of logo and create its inverse mask also\n",
    "img2gray = cv.cvtColor(img2,cv.COLOR_BGR2GRAY)\n",
    "ret, mask = cv.threshold(img2gray, 10, 255, cv.THRESH_BINARY)\n",
    "mask_inv = cv.bitwise_not(mask)\n",
    " \n",
    "# Now black-out the area of logo in ROI\n",
    "img1_bg = cv.bitwise_and(roi,roi,mask = mask_inv)\n",
    " \n",
    "# Take only region of logo from logo image.\n",
    "img2_fg = cv.bitwise_and(img2,img2,mask = mask)\n",
    " \n",
    "# Put logo in ROI and modify the main image\n",
    "dst = cv.add(img1_bg,img2_fg)\n",
    "img1[0:rows, 0:cols ] = dst\n",
    " \n",
    "cv.imshow('res',img1)\n",
    "cv.waitKey(0)\n",
    "cv.destroyAllWindows()"
   ]
  },
  {
   "cell_type": "code",
   "execution_count": 13,
   "metadata": {},
   "outputs": [
    {
     "data": {
      "image/png": "[encoded data removed]",
      "text/plain": [
       "<Figure size 640x480 with 1 Axes>"
      ]
     },
     "metadata": {},
     "output_type": "display_data"
    }
   ],
   "source": [
    "plt.imshow(cv2.cvtColor(img1, cv2.COLOR_BGR2RGB))  # Convert BGR to RGB for display\n",
    "plt.axis('off')\n",
    "plt.show()"
   ]
  },
  {
   "cell_type": "code",
   "execution_count": null,
   "metadata": {},
   "outputs": [],
   "source": []
  }
 ],
 "metadata": {
  "kernelspec": {
   "display_name": "Python 3",
   "language": "python",
   "name": "python3"
  },
  "language_info": {
   "codemirror_mode": {
    "name": "ipython",
    "version": 3
   },
   "file_extension": ".py",
   "mimetype": "text/x-python",
   "name": "python",
   "nbconvert_exporter": "python",
   "pygments_lexer": "ipython3",
   "version": "3.10.11"
  }
 },
 "nbformat": 4,
 "nbformat_minor": 2
}
